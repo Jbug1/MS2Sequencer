{
 "cells": [
  {
   "cell_type": "code",
   "execution_count": null,
   "id": "c93b92b6",
   "metadata": {},
   "outputs": [],
   "source": [
    "elements = {'C' : 12,\n",
    "            'H' : 1.007825035,\n",
    "            'N': 14.003074000,\n",
    "            'O' : 15.994914630,\n",
    "            'P' : 30.973762000,\n",
    "            'S' : 31.972070700,\n",
    "            'Cl': 34.968853,\n",
    "            'Na': 22.989770,\n",
    "            'F' : 18.998403,\n",
    "            'Br' : 78.91834\n",
    "            }\n",
    "\n",
    "element_limits = {'C' : [0,50],\n",
    "                    'H' : [0,80],\n",
    "                    'N': [0,10],\n",
    "                    'O' : [0,8],\n",
    "                    'P' : [0,1],\n",
    "                    'S' : [0,0],\n",
    "                    'Cl': [0,1],\n",
    "                    'Na': [0,0],\n",
    "                    'Br': [0,1],\n",
    "                    'F':[0,4]}"
   ]
  },
  {
   "cell_type": "code",
   "execution_count": null,
   "id": "2e311be0",
   "metadata": {},
   "outputs": [],
   "source": [
    "import itertools\n",
    "import numpy as np\n",
    "from collections import defaultdict\n",
    "from collections import Counter\n",
    "import matplotlib.pyplot as plt\n",
    "\n",
    "def build_delta_dict(element_masses, \n",
    "                     element_limits, \n",
    "                     precision_limit, \n",
    "                     min_delta = 0,\n",
    "                     max_delta = 1e6):\n",
    "\n",
    "    #get possible deltas for each element\n",
    "    masses = np.zeros(len(element_masses))\n",
    "\n",
    "    #build delta list in order\n",
    "    element_deltas = list()\n",
    "    i = 0\n",
    "    for i, (element, mass) in enumerate(element_masses.items()):\n",
    "\n",
    "        #add the mz for this element\n",
    "        masses[i] = round(mass, precision_limit)\n",
    "\n",
    "        #get an array of all possible element count changes\n",
    "        element_deltas.append(list(range(element_limits[element][0], element_limits[element][1] + 1)))\n",
    "\n",
    "    #get all possible combinations of individual element count changes\n",
    "    element_deltas = np.array(list(itertools.product(*element_deltas)))\n",
    "\n",
    "    #get mass of each combination\n",
    "    delta_masses = element_deltas @ masses\n",
    "\n",
    "    #create mapping of delta value to possible compositions\n",
    "    delta_dict = defaultdict(list)\n",
    "    for delta, element_composition in zip(delta_masses, element_deltas):\n",
    "\n",
    "        if min_delta < delta < max_delta:\n",
    "\n",
    "            delta_dict[delta].append(np.array(element_composition, dtype = np.uint8))\n",
    "\n",
    "    return delta_dict\n"
   ]
  },
  {
   "cell_type": "code",
   "execution_count": null,
   "id": "f5d441c8",
   "metadata": {},
   "outputs": [],
   "source": [
    "yoop = build_delta_dict(elements, element_limits, 2, 500, 1000)"
   ]
  },
  {
   "cell_type": "code",
   "execution_count": 16,
   "id": "85053613",
   "metadata": {},
   "outputs": [
    {
     "data": {
      "text/plain": [
       "168"
      ]
     },
     "execution_count": 16,
     "metadata": {},
     "output_type": "execute_result"
    }
   ],
   "source": [
    "sys.getsizeof(np.array(yoop[0.0], np.int32))"
   ]
  },
  {
   "cell_type": "code",
   "execution_count": 113,
   "id": "fc6c8ab1",
   "metadata": {},
   "outputs": [
    {
     "data": {
      "text/plain": [
       "[('[M+H]+', 311734),\n",
       " ('[M-H]-', 124844),\n",
       " ('[M+H-H2O]+', 84616),\n",
       " ('[M+Na]+', 39545),\n",
       " ('[2M+H]+', 28861),\n",
       " ('[M+H+2i]+', 26779),\n",
       " ('[2M-H]-', 25337),\n",
       " ('[M+H-2H2O]+', 15810),\n",
       " ('[M+H-NH3]+', 13884),\n",
       " ('[M-H-CO2]-', 12870)]"
      ]
     },
     "execution_count": 113,
     "metadata": {},
     "output_type": "execute_result"
    }
   ],
   "source": [
    "Counter(adducts).most_common(10)"
   ]
  },
  {
   "cell_type": "code",
   "execution_count": null,
   "id": "702266b5",
   "metadata": {},
   "outputs": [],
   "source": [
    "VALENCE_ELECTRONS = {\n",
    "    'H': 1,\n",
    "    'C': 4,\n",
    "    'N': 5,\n",
    "    'O': 6,\n",
    "    'F': 7\n",
    "}\n",
    "\n"
   ]
  },
  {
   "cell_type": "code",
   "execution_count": 146,
   "id": "fee9ac68",
   "metadata": {},
   "outputs": [
    {
     "data": {
      "text/plain": [
       "array(['C', 'H', 'N', 'O', 'P', 'S', 'Cl', 'Na', 'Br', 'F'], dtype='<U2')"
      ]
     },
     "execution_count": 146,
     "metadata": {},
     "output_type": "execute_result"
    }
   ],
   "source": [
    "positions"
   ]
  },
  {
   "cell_type": "code",
   "execution_count": 170,
   "id": "4efa420e",
   "metadata": {},
   "outputs": [],
   "source": [
    "positions = np.array(list(positions) + ['K'])"
   ]
  },
  {
   "cell_type": "code",
   "execution_count": 185,
   "id": "21c21379",
   "metadata": {},
   "outputs": [
    {
     "data": {
      "text/plain": [
       "array([ 81., 142.,   0.,  17.,   2.,   0.,   0.,   0.,   0.,   0.,   0.])"
      ]
     },
     "execution_count": 185,
     "metadata": {},
     "output_type": "execute_result"
    }
   ],
   "source": [
    "break_formula('C81H142O17P2', positions)"
   ]
  },
  {
   "cell_type": "code",
   "execution_count": 187,
   "id": "b92cf9df",
   "metadata": {},
   "outputs": [],
   "source": [
    "mults = np.array([0,1,1,0,1,0,1,1,1,1,1])\n",
    "good = 0\n",
    "bad = 0\n",
    "for formula, adduct in zip(formulae, adducts):\n",
    "    \n",
    "    try:\n",
    "\n",
    "        composition = break_formula(formula, positions)\n",
    "\n",
    "        if mults @ composition == 0:\n",
    "            \n",
    "            if 'cat' in adduct.lower():\n",
    "                bad+=1\n",
    "\n",
    "            else:\n",
    "                good +=1\n",
    "\n",
    "        else:\n",
    "\n",
    "            if 'cat' in adduct.lower():\n",
    "                good += 1\n",
    "\n",
    "            else:\n",
    "                bad +=1\n",
    "\n",
    "    except:\n",
    "        print(f'yoop: {formula}')"
   ]
  },
  {
   "cell_type": "code",
   "execution_count": 188,
   "id": "ebb64caa",
   "metadata": {},
   "outputs": [
    {
     "data": {
      "text/plain": [
       "(4281, 1022431)"
      ]
     },
     "execution_count": 188,
     "metadata": {},
     "output_type": "execute_result"
    }
   ],
   "source": [
    "good, bad"
   ]
  },
  {
   "cell_type": "code",
   "execution_count": 179,
   "id": "31080c65",
   "metadata": {},
   "outputs": [
    {
     "name": "stdout",
     "output_type": "stream",
     "text": [
      "yoop: [Cat]+\n",
      "yoop: [M]+.\n",
      "yoop: [Cat+H2O]+\n",
      "yoop: [Cat-2H]-\n",
      "yoop: [Cat-H2O]+\n",
      "[M+H-OH]+\n",
      "yoop: [Cat+H]2+\n",
      "yoop: [Cat+2I]+\n",
      "yoop: [Cat+I]2+\n",
      "yoop: [Cat-H]+\n",
      "yoop: [Cat]2+\n",
      "[M+Li]+\n",
      "yoop: [Cat]3+\n",
      "[M+H-Cl]+\n",
      "[M+H-CBrO]+\n",
      "[M+H-CClO]+\n",
      "yoop: [Cat-C2H5N]+\n",
      "yoop: [Cat-C3H7N]+\n",
      "yoop: [Cat-C2H7N]+\n",
      "yoop: [Cat-C5H8O4]+\n",
      "yoop: [Cat-C2H6]+\n",
      "yoop: [Cat-C6H12]+\n",
      "yoop: [Cat-C6H14]+\n",
      "yoop: [Cat-C18H36]+\n",
      "yoop: [Cat-C2H4]+\n",
      "yoop: [Cat-C7H8]+\n",
      "yoop: [Cat-C7H14]+\n",
      "yoop: [Cat-C7H16]+\n",
      "yoop: [Cat-C13H28]+\n",
      "yoop: [Cat-C16H32]+\n",
      "yoop: [Cat-C12H24]+\n",
      "yoop: [Cat-CH4]+\n",
      "yoop: [Cat-C2H4O]+\n",
      "yoop: [Cat-C14H10O2]+\n",
      "yoop: [Cat-H2]+\n",
      "yoop: [Cat-CH3]+\n",
      "yoop: [Cat-CO]+\n",
      "yoop: [Cat-CH2O]+\n",
      "yoop: [Cat-C2H2O2]+\n",
      "yoop: [Cat-CH4O]+\n",
      "yoop: [Cat-C5H10O]+\n",
      "[M+H-HSO3]+\n",
      "yoop: [Cat-I]+\n",
      "yoop: [Cat-C3H9N]+\n",
      "yoop: [Cat-C3H6O]+\n",
      "yoop: [Cat-C7H15N]+\n",
      "yoop: [Cat-C18H14Cl4N2O]+\n",
      "yoop: [Cat-C6H7N3]+\n",
      "yoop: [Cat-C6H9NOS]+\n",
      "[M+H-NO2]+\n",
      "yoop: [Cat-C8H6O2]+\n",
      "yoop: [Cat-C8H8O3]+\n",
      "[M+H-NO]+\n",
      "yoop: [Cat-C8H20N2]+\n",
      "yoop: [Cat-C11H16]+\n",
      "yoop: [Cat-C10H6S2O2]+\n",
      "yoop: [Cat-C10H8S2O3]+\n",
      "yoop: [Cat-C5H13N]+\n",
      "yoop: [Cat-CH2]+\n",
      "yoop: [Cat-C4H8]+\n",
      "yoop: [Cat-C6H10O4]+\n",
      "yoop: [Cat-H+OH]-\n",
      "yoop: [Cat-C6H10O5]+\n",
      "yoop: [Cat-2H-C6H10O5]-\n",
      "yoop: [Cat-C12H20O9]+\n",
      "[M+H-H]+\n",
      "yoop: [Cat-C12H20O10]+\n",
      "yoop: [Cat-C16H30O]+\n",
      "yoop: [Cat-C35H66O4]+\n",
      "yoop: [Cat-C37H70O4]+\n",
      "yoop: [Cat+H2O]2+\n",
      "yoop: [Cat-2H-H2]-\n",
      "yoop: [Cat-2H-C6H4O2]-\n",
      "yoop: [Cat-2H-C8H4O3]-\n",
      "yoop: [Cat-C11H18O9]+\n",
      "yoop: [Cat-C2H4O2]+\n",
      "yoop: [Cat-C2H7NO2]+\n",
      "yoop: [Cat-C3H8]+\n",
      "yoop: [Cat-C6H16]+\n",
      "yoop: [Cat-2H-CH3]-\n",
      "yoop: [Cat-2H-C6H8O4]-\n",
      "[M+H-OH+2i]+\n",
      "yoop: [Cat+2i]+\n",
      "[M+Fe]2+\n",
      "[M+H+Na-H2O]2+\n",
      "[M-H+Cl]2-\n",
      "[M-H+CHO2]2-\n",
      "[M+2Na-H2O]2+\n",
      "[M+H+K-H2O]2+\n",
      "[M+H-Br]+\n",
      "yoop: [Cat-CH5N]+\n",
      "[M+H-HS]+\n",
      "yoop: [Cat-C4H10]+\n",
      "yoop: [Cat+2H]3+\n",
      "[M+H-CBrO2]+\n",
      "yoop: [Cat-C6H13N]+\n",
      "yoop: [Cat-C8H15NO]+\n",
      "yoop: [Cat-C8H17NO2]+\n",
      "yoop: [Cat-C10H19NO3]+\n",
      "yoop: [Cat-N2]+\n",
      "yoop: [Cat-C3H6]+\n",
      "yoop: [Cat-C9H18]+\n",
      "yoop: [Cat-C10H20]+\n",
      "yoop: [Cat-C7H19NO2]+\n",
      "yoop: [Cat-C3H4]+\n",
      "yoop: [Cat-C9H8]+\n",
      "yoop: [Cat-C9H10]+\n",
      "yoop: [Cat-C8H12O]+\n",
      "yoop: [Cat-C10H16]+\n",
      "yoop: [Cat-C7H7]+\n",
      "[M+H-NO2+2i]+\n",
      "[M+H-C2ClO2]+\n",
      "yoop: [Cat-C8H6]+\n",
      "yoop: [Cat-C2H3N]+\n",
      "yoop: [Cat-HBr]+\n",
      "yoop: [Cat-C11H9N]+\n",
      "[M+H-CNS]+\n",
      "[M+H-CClO2]+\n",
      "yoop: [Cat-C7H10]+\n",
      "yoop: [Cat-C8H8O]+\n",
      "yoop: [Cat-CH3N]+\n",
      "[M+H-HBO2]+\n",
      "yoop: [Cat-C5H12N]+\n",
      "yoop: [Cat-C9H21N]+\n",
      "yoop: [Cat-C12H14O]+\n",
      "yoop: [Cat-C6H5]+\n",
      "yoop: [Cat-C7H6F]+\n",
      "yoop: [Cat-C13H13F]+\n",
      "yoop: [Cat-C5H5N]+\n",
      "yoop: [Cat-C6H7N]+\n",
      "yoop: [249.119]+\n",
      "[M+H-Br+2i]+\n",
      "yoop: [Cat+H2O+2i]+\n",
      "yoop: [Cat-C5H5N+2i]+\n",
      "yoop: [Cat-C6H7N+2i]+\n",
      "yoop: [266.0821]-\n",
      "[M+H-HI]+\n",
      "yoop: [170.0803]-\n",
      "yoop: [155.0704]+\n",
      "yoop: [275.1186]+\n",
      "yoop: [177.0545]+\n",
      "yoop: [225.0137]+\n",
      "yoop: [224.0102]+\n",
      "yoop: [279.1331]-\n",
      "yoop: [300.0597]-\n",
      "[M+H-HS4]+\n",
      "[M+H-C2HO3]+\n",
      "[M+H-C2ClO3]+\n",
      "[M+H-NO+2i]+\n",
      "[M+H-NO+4i]+\n",
      "yoop: [Cat-C27H36O17]+\n",
      "yoop: [Cat-CH2O2]+\n",
      "[M+I]-\n",
      "[M+2H-H2O]2+\n",
      "[M+H-CNO3]+\n",
      "yoop: [Cat-C4H12N]+\n",
      "yoop: [Cat-C5H13NO]+\n",
      "yoop: [Cat-C6H13NO2]+\n",
      "yoop: [Cat-C6H17NO2]+\n",
      "yoop: [Cat-C7H17NO3]+\n",
      "yoop: [Cat-C4H9O]+\n",
      "[M+H-CHO]+\n",
      "yoop: [Cat-C10H7NO2]+\n",
      "[M+H-CHIO]+\n",
      "yoop: [Cat-C2H6N2]+\n",
      "[M+H-Cl+2i]+\n",
      "[M+H-CBrO+2i]+\n",
      "[M-H+OH]2-\n"
     ]
    }
   ],
   "source": [
    "mults = np.array([0,1,1,0,1,0,1,1,1,1,1])\n",
    "good = 0\n",
    "bad = 0\n",
    "for i in Counter(adducts):\n",
    "    try:\n",
    "        formula = break_adduct(i, np.zeros(len(positions)), positions)\n",
    "\n",
    "        if mults @ formula == 0:\n",
    "            print(i)\n",
    "            bad+=1\n",
    "\n",
    "        else:\n",
    "            good +=1\n",
    "    except:\n",
    "        print(f'yoop: {i}')"
   ]
  },
  {
   "cell_type": "code",
   "execution_count": 180,
   "id": "a11d8a1a",
   "metadata": {},
   "outputs": [
    {
     "data": {
      "text/plain": [
       "(6071, 39)"
      ]
     },
     "execution_count": 180,
     "metadata": {},
     "output_type": "execute_result"
    }
   ],
   "source": [
    "good, bad"
   ]
  },
  {
   "cell_type": "code",
   "execution_count": 164,
   "id": "4b513141",
   "metadata": {},
   "outputs": [
    {
     "data": {
      "text/plain": [
       "1.0"
      ]
     },
     "execution_count": 164,
     "metadata": {},
     "output_type": "execute_result"
    }
   ],
   "source": [
    "(break_adduct('[M+NH4]+', np.zeros(len(positions)), positions) @ mults) % 2"
   ]
  },
  {
   "cell_type": "code",
   "execution_count": 144,
   "id": "8954892e",
   "metadata": {},
   "outputs": [
    {
     "ename": "ValueError",
     "evalue": "operands could not be broadcast together with shapes (10,) (8,) ",
     "output_type": "error",
     "traceback": [
      "\u001b[0;31m---------------------------------------------------------------------------\u001b[0m",
      "\u001b[0;31mValueError\u001b[0m                                Traceback (most recent call last)",
      "Cell \u001b[0;32mIn[144], line 1\u001b[0m\n\u001b[0;32m----> 1\u001b[0m formula \u001b[38;5;241m*\u001b[39m mults\n",
      "\u001b[0;31mValueError\u001b[0m: operands could not be broadcast together with shapes (10,) (8,) "
     ]
    }
   ],
   "source": [
    "formula * mults"
   ]
  },
  {
   "cell_type": "code",
   "execution_count": 145,
   "id": "57e9e2b7",
   "metadata": {},
   "outputs": [
    {
     "data": {
      "text/plain": [
       "10"
      ]
     },
     "execution_count": 145,
     "metadata": {},
     "output_type": "execute_result"
    }
   ],
   "source": [
    "len(positions)"
   ]
  },
  {
   "cell_type": "code",
   "execution_count": 151,
   "id": "24ada835",
   "metadata": {},
   "outputs": [
    {
     "data": {
      "text/plain": [
       "1"
      ]
     },
     "execution_count": 151,
     "metadata": {},
     "output_type": "execute_result"
    }
   ],
   "source": [
    "1 %2 "
   ]
  },
  {
   "cell_type": "code",
   "execution_count": 150,
   "id": "d656db01",
   "metadata": {},
   "outputs": [
    {
     "data": {
      "text/plain": [
       "1.0"
      ]
     },
     "execution_count": 150,
     "metadata": {},
     "output_type": "execute_result"
    }
   ],
   "source": [
    "formula @ mults"
   ]
  },
  {
   "cell_type": "code",
   "execution_count": 138,
   "id": "805dc099",
   "metadata": {},
   "outputs": [],
   "source": [
    "positions = np.array(['C', 'H', 'N', 'O', 'P', 'S', 'Cl', 'Na', 'Br', 'F'])\n",
    "\n",
    "def break_formula(formula, positions):\n",
    "    \n",
    "    counts = np.zeros(positions.shape[0])\n",
    "\n",
    "    stringitem = formula[0]\n",
    "    intitem = '0'\n",
    "\n",
    "    for i in formula[1:]:\n",
    "\n",
    "        if i.isdigit():\n",
    "\n",
    "            intitem += i\n",
    "\n",
    "        elif i.isupper():\n",
    "            \n",
    "            try:\n",
    "\n",
    "                counts[np.where(positions == stringitem)] += max(int(intitem), 1)\n",
    "                stringitem = i\n",
    "                intitem = '0'\n",
    "\n",
    "            except:\n",
    "                return stringitem\n",
    "            \n",
    "        else:\n",
    "            stringitem += i\n",
    "\n",
    "    try:\n",
    "                \n",
    "        counts[np.where(positions == stringitem)] += max(int(intitem), 1)\n",
    "\n",
    "    except:\n",
    "        return stringitem\n",
    "    \n",
    "    return counts\n",
    "\n",
    "def break_adduct(adduct_string, counts, positions):\n",
    "\n",
    "    counts = counts.astype(np.float64)\n",
    "\n",
    "    #check for dimer trimer...etc?\n",
    "    k_mer = adduct_string[:adduct_string.index('M') + 1]\n",
    "\n",
    "    k_mer_mult = '0'\n",
    "    for char in k_mer:\n",
    "\n",
    "        if char.isdigit():\n",
    "            k_mer_mult += char\n",
    "\n",
    "    #adjust all counts for potential k-mer\n",
    "    counts = counts * max(int(k_mer_mult), 1)\n",
    "\n",
    "    adduct_string = adduct_string[adduct_string.index('M') + 1: adduct_string.index(']')]\n",
    "\n",
    "    direction = adduct_string[0]\n",
    "    str_accumulator = ''\n",
    "    mult_accumulator = '0'\n",
    "    for i in adduct_string[1:]:\n",
    "\n",
    "        if i.isdigit() and str_accumulator == '':\n",
    "\n",
    "            mult_accumulator += i\n",
    "\n",
    "        elif i != '+' and i != '-':\n",
    "\n",
    "            str_accumulator += i\n",
    "\n",
    "        else:\n",
    "\n",
    "            mult = max(int(mult_accumulator), 1)\n",
    "            counts_new = break_formula(str_accumulator, positions)\n",
    "\n",
    "            if direction == '+':\n",
    "\n",
    "                counts = counts + mult * counts_new\n",
    "            \n",
    "\n",
    "            else:\n",
    "\n",
    "                counts = counts - mult * counts_new\n",
    "\n",
    "            str_accumulator = ''\n",
    "            mult_accumulator = '0'\n",
    "\n",
    "            direction = i\n",
    "\n",
    "    mult = max(int(mult_accumulator), 1)\n",
    "    counts_new = break_formula(str_accumulator, positions)\n",
    "\n",
    "    if direction == '+':\n",
    "\n",
    "        counts = counts + mult * counts_new\n",
    "\n",
    "    else:\n",
    "\n",
    "        counts = counts - mult * counts_new\n",
    "\n",
    "    return counts\n",
    "\n"
   ]
  },
  {
   "cell_type": "code",
   "execution_count": 107,
   "id": "d7c9aa27",
   "metadata": {},
   "outputs": [
    {
     "data": {
      "text/plain": [
       "array(['C', 'H', 'N', 'O', 'P', 'S', 'Cl', 'Na', 'Br', 'F'], dtype='<U2')"
      ]
     },
     "execution_count": 107,
     "metadata": {},
     "output_type": "execute_result"
    }
   ],
   "source": [
    "positions"
   ]
  },
  {
   "cell_type": "code",
   "execution_count": 108,
   "id": "ef9ce776",
   "metadata": {},
   "outputs": [
    {
     "data": {
      "text/plain": [
       "'[M+NH4]+'"
      ]
     },
     "execution_count": 108,
     "metadata": {},
     "output_type": "execute_result"
    }
   ],
   "source": [
    "adducts[0]"
   ]
  },
  {
   "cell_type": "code",
   "execution_count": 109,
   "id": "e86ab2e7",
   "metadata": {},
   "outputs": [
    {
     "data": {
      "text/plain": [
       "array(['C', 'H', 'N', 'O', 'P', 'S', 'Cl', 'Na', 'Br', 'F'], dtype='<U2')"
      ]
     },
     "execution_count": 109,
     "metadata": {},
     "output_type": "execute_result"
    }
   ],
   "source": [
    "positions"
   ]
  },
  {
   "cell_type": "code",
   "execution_count": 111,
   "id": "e46baeaf",
   "metadata": {},
   "outputs": [
    {
     "name": "stdout",
     "output_type": "stream",
     "text": [
      "[2M\n",
      "02\n"
     ]
    },
    {
     "data": {
      "text/plain": [
       "array([2., 2., 3., 0., 2., 2., 2., 2., 2., 2.])"
      ]
     },
     "execution_count": 111,
     "metadata": {},
     "output_type": "execute_result"
    }
   ],
   "source": [
    "input = '[2M+NH4-2H2O]+'\n",
    "adduct_parser(input, np.array([1 for _ in positions]), positions)"
   ]
  },
  {
   "cell_type": "code",
   "execution_count": 89,
   "id": "e03b2d68",
   "metadata": {},
   "outputs": [
    {
     "data": {
      "text/plain": [
       "1515.12431168"
      ]
     },
     "execution_count": 89,
     "metadata": {},
     "output_type": "execute_result"
    }
   ],
   "source": [
    "break_formula('C42H80NO8P', positions) @ np.array(list(elements.values())) * 2"
   ]
  },
  {
   "cell_type": "code",
   "execution_count": null,
   "id": "ab97e705",
   "metadata": {},
   "outputs": [
    {
     "data": {
      "text/plain": [
       "array([12.        ,  1.00782503, 14.003074  , 15.99491463, 30.973762  ,\n",
       "       31.9720707 , 34.968853  , 22.98977   , 18.998403  , 78.91834   ])"
      ]
     },
     "execution_count": 87,
     "metadata": {},
     "output_type": "execute_result"
    }
   ],
   "source": []
  },
  {
   "cell_type": "code",
   "execution_count": 75,
   "id": "d27ee075",
   "metadata": {},
   "outputs": [
    {
     "name": "stdout",
     "output_type": "stream",
     "text": [
      "[2M+H]+ C42H80NO8P 1516.1316\n"
     ]
    }
   ],
   "source": [
    "for adduct, formula, precursor in zip(adducts, formulae, mzs):\n",
    "\n",
    "    if '2M' in adduct:\n",
    "\n",
    "        print(adduct, formula, precursor)\n",
    "        break"
   ]
  },
  {
   "cell_type": "code",
   "execution_count": 40,
   "id": "89c40bd8",
   "metadata": {},
   "outputs": [
    {
     "name": "stdout",
     "output_type": "stream",
     "text": [
      "('C', 81.0)\n",
      "('H', 142.0)\n",
      "('N', 0.0)\n",
      "('O', 17.0)\n",
      "('P', 2.0)\n",
      "('S', 0.0)\n",
      "('Cl', 0.0)\n",
      "('Na', 0.0)\n",
      "('Br', 0.0)\n",
      "('F', 0.0)\n"
     ]
    }
   ],
   "source": [
    "for i in zip(positions, break_formula(formulae[0], positions)):\n",
    "\n",
    "    print(i)\n"
   ]
  },
  {
   "cell_type": "code",
   "execution_count": 29,
   "id": "2c812eac",
   "metadata": {},
   "outputs": [
    {
     "data": {
      "text/plain": [
       "array([2, 2, 3, 4])"
      ]
     },
     "execution_count": 29,
     "metadata": {},
     "output_type": "execute_result"
    }
   ],
   "source": [
    "a = np.array([1,2,3,4])\n",
    "a[np.where(a == 1)] += 1\n",
    "a"
   ]
  },
  {
   "cell_type": "code",
   "execution_count": null,
   "id": "340c436d",
   "metadata": {},
   "outputs": [],
   "source": [
    "\n",
    "\n",
    "with open('/Users/jonahpoczobutt/Downloads/nist20.msp', 'r') as handle:\n",
    "\n",
    "    lines = handle.readlines()\n",
    "\n",
    "formulae = [i.split(' ')[1].strip() for i in lines if 'formula' in i.lower()]\n",
    "mzs = [float(i.split(' ')[1].strip().replace(',','')) for i in lines if 'precursormz' in i.lower()]\n",
    "compositions = [break_formula(i) for i in formulae]\n",
    "adducts = [i.split(' ')[1].strip() for i in lines if 'precursor_type' in i.lower()]\n"
   ]
  },
  {
   "cell_type": "code",
   "execution_count": 43,
   "id": "2d15b7d7",
   "metadata": {},
   "outputs": [],
   "source": [
    "yool = [i.split(' ')[1] for i in lines if 'formula' in i.lower()]"
   ]
  },
  {
   "cell_type": "code",
   "execution_count": 12,
   "id": "daa9914e",
   "metadata": {},
   "outputs": [],
   "source": [
    "min_mz = 500\n",
    "max_mz = 1000\n",
    "retain = list()\n",
    "retain_mzs = list()\n",
    "retain_adducts = list()\n",
    "for composition, mz, adduct in zip(compositions, mzs, adducts):\n",
    "\n",
    "    if min_mz < mz < max_mz and type(composition) != str:\n",
    "\n",
    "        retain.append(composition)\n",
    "        retain_mzs.append(mz)\n",
    "        retain_adducts.append(adduct)"
   ]
  },
  {
   "cell_type": "code",
   "execution_count": 13,
   "id": "14228b6a",
   "metadata": {},
   "outputs": [
    {
     "data": {
      "text/plain": [
       "111795"
      ]
     },
     "execution_count": 13,
     "metadata": {},
     "output_type": "execute_result"
    }
   ],
   "source": [
    "len(retain)"
   ]
  },
  {
   "cell_type": "code",
   "execution_count": 10,
   "id": "21afd91f",
   "metadata": {},
   "outputs": [
    {
     "data": {
      "text/plain": [
       "Counter()"
      ]
     },
     "execution_count": 10,
     "metadata": {},
     "output_type": "execute_result"
    }
   ],
   "source": [
    "errs = list()\n",
    "for item in retain:\n",
    "\n",
    "    if type(item) == str:\n",
    "        errs.append(item)\n",
    "\n",
    "Counter(errs)\n"
   ]
  },
  {
   "cell_type": "code",
   "execution_count": 14,
   "id": "d8765a8c",
   "metadata": {},
   "outputs": [
    {
     "data": {
      "image/png": "[encoded data removed]",
      "text/plain": [
       "<Figure size 640x480 with 1 Axes>"
      ]
     },
     "metadata": {},
     "output_type": "display_data"
    },
    {
     "data": {
      "image/png": "[encoded data removed]",
      "text/plain": [
       "<Figure size 640x480 with 1 Axes>"
      ]
     },
     "metadata": {},
     "output_type": "display_data"
    },
    {
     "data": {
      "image/png": "[encoded data removed]",
      "text/plain": [
       "<Figure size 640x480 with 1 Axes>"
      ]
     },
     "metadata": {},
     "output_type": "display_data"
    },
    {
     "data": {
      "image/png": "[encoded data removed]",
      "text/plain": [
       "<Figure size 640x480 with 1 Axes>"
      ]
     },
     "metadata": {},
     "output_type": "display_data"
    },
    {
     "data": {
      "image/png": "[encoded data removed]",
      "text/plain": [
       "<Figure size 640x480 with 1 Axes>"
      ]
     },
     "metadata": {},
     "output_type": "display_data"
    },
    {
     "data": {
      "image/png": "[encoded data removed]",
      "text/plain": [
       "<Figure size 640x480 with 1 Axes>"
      ]
     },
     "metadata": {},
     "output_type": "display_data"
    },
    {
     "data": {
      "image/png": "[encoded data removed]",
      "text/plain": [
       "<Figure size 640x480 with 1 Axes>"
      ]
     },
     "metadata": {},
     "output_type": "display_data"
    },
    {
     "data": {
      "image/png": "[encoded data removed]",
      "text/plain": [
       "<Figure size 640x480 with 1 Axes>"
      ]
     },
     "metadata": {},
     "output_type": "display_data"
    },
    {
     "data": {
      "image/png": "[encoded data removed]",
      "text/plain": [
       "<Figure size 640x480 with 1 Axes>"
      ]
     },
     "metadata": {},
     "output_type": "display_data"
    },
    {
     "data": {
      "image/png": "[encoded data removed]",
      "text/plain": [
       "<Figure size 640x480 with 1 Axes>"
      ]
     },
     "metadata": {},
     "output_type": "display_data"
    }
   ],
   "source": [
    "composition_dict = {'C' : 0,\n",
    "                    'H' : 0,\n",
    "                    'N': 0,\n",
    "                    'O' : 0,\n",
    "                    'P' : 0,\n",
    "                    'S' : 0,\n",
    "                    'Cl': 0,\n",
    "                    'Na': 0,\n",
    "                    'Br': 0,\n",
    "                    'F' : 0}\n",
    "\n",
    "for key in composition_dict:\n",
    "\n",
    "    plt.hist([i[key] for i in retain], bins = 20)\n",
    "    plt.title(key)\n",
    "    plt.show()"
   ]
  }
 ],
 "metadata": {
  "kernelspec": {
   "display_name": "base",
   "language": "python",
   "name": "python3"
  },
  "language_info": {
   "codemirror_mode": {
    "name": "ipython",
    "version": 3
   },
   "file_extension": ".py",
   "mimetype": "text/x-python",
   "name": "python",
   "nbconvert_exporter": "python",
   "pygments_lexer": "ipython3",
   "version": "3.11.7"
  }
 },
 "nbformat": 4,
 "nbformat_minor": 5
}
